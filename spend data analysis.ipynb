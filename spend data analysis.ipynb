{
 "cells": [
  {
   "cell_type": "code",
   "execution_count": 1,
   "id": "d3f21adc-4af5-4347-86e1-be7f36bdeb51",
   "metadata": {},
   "outputs": [
    {
     "name": "stdout",
     "output_type": "stream",
     "text": [
      "(500, 9)\n"
     ]
    },
    {
     "data": {
      "text/html": [
       "<div>\n",
       "<style scoped>\n",
       "    .dataframe tbody tr th:only-of-type {\n",
       "        vertical-align: middle;\n",
       "    }\n",
       "\n",
       "    .dataframe tbody tr th {\n",
       "        vertical-align: top;\n",
       "    }\n",
       "\n",
       "    .dataframe thead th {\n",
       "        text-align: right;\n",
       "    }\n",
       "</style>\n",
       "<table border=\"1\" class=\"dataframe\">\n",
       "  <thead>\n",
       "    <tr style=\"text-align: right;\">\n",
       "      <th></th>\n",
       "      <th>TransactionID</th>\n",
       "      <th>ItemName</th>\n",
       "      <th>Category</th>\n",
       "      <th>Quantity</th>\n",
       "      <th>UnitPrice</th>\n",
       "      <th>TotalCost</th>\n",
       "      <th>PurchaseDate</th>\n",
       "      <th>Supplier</th>\n",
       "      <th>Buyer</th>\n",
       "    </tr>\n",
       "  </thead>\n",
       "  <tbody>\n",
       "    <tr>\n",
       "      <th>0</th>\n",
       "      <td>TXN001</td>\n",
       "      <td>Desk Chair</td>\n",
       "      <td>Furniture</td>\n",
       "      <td>10</td>\n",
       "      <td>113.15</td>\n",
       "      <td>1131.50</td>\n",
       "      <td>2024-04-19</td>\n",
       "      <td>TechMart Inc.</td>\n",
       "      <td>Kelly Joseph</td>\n",
       "    </tr>\n",
       "    <tr>\n",
       "      <th>1</th>\n",
       "      <td>TXN002</td>\n",
       "      <td>Stapler</td>\n",
       "      <td>Office Supplies</td>\n",
       "      <td>16</td>\n",
       "      <td>12.62</td>\n",
       "      <td>201.92</td>\n",
       "      <td>2024-07-06</td>\n",
       "      <td>CloudSoft Corp.</td>\n",
       "      <td>Kelly Joseph</td>\n",
       "    </tr>\n",
       "    <tr>\n",
       "      <th>2</th>\n",
       "      <td>TXN003</td>\n",
       "      <td>Annual Software License</td>\n",
       "      <td>Software</td>\n",
       "      <td>1</td>\n",
       "      <td>5649.34</td>\n",
       "      <td>5649.34</td>\n",
       "      <td>2024-09-10</td>\n",
       "      <td>TechMart Inc.</td>\n",
       "      <td>Kelly Joseph</td>\n",
       "    </tr>\n",
       "    <tr>\n",
       "      <th>3</th>\n",
       "      <td>TXN004</td>\n",
       "      <td>Notepad</td>\n",
       "      <td>Stationery</td>\n",
       "      <td>13</td>\n",
       "      <td>2.92</td>\n",
       "      <td>37.96</td>\n",
       "      <td>2024-01-21</td>\n",
       "      <td>FurniWorks Ltd.</td>\n",
       "      <td>Luis Holland</td>\n",
       "    </tr>\n",
       "    <tr>\n",
       "      <th>4</th>\n",
       "      <td>TXN005</td>\n",
       "      <td>Notepad</td>\n",
       "      <td>Stationery</td>\n",
       "      <td>19</td>\n",
       "      <td>1.39</td>\n",
       "      <td>26.41</td>\n",
       "      <td>2024-02-03</td>\n",
       "      <td>TechMart Inc.</td>\n",
       "      <td>Cynthia Jenkins</td>\n",
       "    </tr>\n",
       "  </tbody>\n",
       "</table>\n",
       "</div>"
      ],
      "text/plain": [
       "  TransactionID                 ItemName         Category  Quantity  \\\n",
       "0        TXN001               Desk Chair        Furniture        10   \n",
       "1        TXN002                  Stapler  Office Supplies        16   \n",
       "2        TXN003  Annual Software License         Software         1   \n",
       "3        TXN004                  Notepad       Stationery        13   \n",
       "4        TXN005                  Notepad       Stationery        19   \n",
       "\n",
       "   UnitPrice  TotalCost PurchaseDate         Supplier            Buyer  \n",
       "0     113.15    1131.50   2024-04-19    TechMart Inc.     Kelly Joseph  \n",
       "1      12.62     201.92   2024-07-06  CloudSoft Corp.     Kelly Joseph  \n",
       "2    5649.34    5649.34   2024-09-10    TechMart Inc.     Kelly Joseph  \n",
       "3       2.92      37.96   2024-01-21  FurniWorks Ltd.     Luis Holland  \n",
       "4       1.39      26.41   2024-02-03    TechMart Inc.  Cynthia Jenkins  "
      ]
     },
     "execution_count": 1,
     "metadata": {},
     "output_type": "execute_result"
    }
   ],
   "source": [
    "import pandas as pd\n",
    "import numpy as np\n",
    "import seaborn as sns\n",
    "import matplotlib.pyplot as plt\n",
    "from sklearn.model_selection import train_test_split\n",
    "from sklearn.linear_model import LinearRegression\n",
    "from sklearn.metrics import mean_squared_error, mean_absolute_error, r2_score\n",
    "import warnings\n",
    "warnings.filterwarnings('ignore')\n",
    "from sklearn.preprocessing import StandardScaler\n",
    "\n",
    "data = pd.read_csv(r'C:\\Users\\Kerry\\spend_analysis_dataset.csv')\n",
    "print(data.shape)\n",
    "data.head()"
   ]
  },
  {
   "cell_type": "code",
   "execution_count": 2,
   "id": "12dd9090-bcec-4d9b-bd3c-b7d5a81a9d1d",
   "metadata": {},
   "outputs": [
    {
     "data": {
      "text/plain": [
       "TransactionID    0\n",
       "ItemName         0\n",
       "Category         0\n",
       "Quantity         0\n",
       "UnitPrice        0\n",
       "TotalCost        0\n",
       "PurchaseDate     0\n",
       "Supplier         0\n",
       "Buyer            0\n",
       "dtype: int64"
      ]
     },
     "execution_count": 2,
     "metadata": {},
     "output_type": "execute_result"
    }
   ],
   "source": [
    "data.isnull().sum()"
   ]
  },
  {
   "cell_type": "code",
   "execution_count": 3,
   "id": "e5f47441-05eb-41a6-b3c6-6a706038b469",
   "metadata": {},
   "outputs": [
    {
     "data": {
      "text/plain": [
       "0"
      ]
     },
     "execution_count": 3,
     "metadata": {},
     "output_type": "execute_result"
    }
   ],
   "source": [
    "data.duplicated().sum()"
   ]
  },
  {
   "cell_type": "code",
   "execution_count": 4,
   "id": "d09e40ed-c748-4637-bdfa-1e96a8630f09",
   "metadata": {},
   "outputs": [
    {
     "data": {
      "text/plain": [
       "<bound method NDFrame.describe of     TransactionID                 ItemName         Category  Quantity  \\\n",
       "0          TXN001               Desk Chair        Furniture        10   \n",
       "1          TXN002                  Stapler  Office Supplies        16   \n",
       "2          TXN003  Annual Software License         Software         1   \n",
       "3          TXN004                  Notepad       Stationery        13   \n",
       "4          TXN005                  Notepad       Stationery        19   \n",
       "..            ...                      ...              ...       ...   \n",
       "495        TXN496               Whiteboard        Furniture        19   \n",
       "496        TXN497                   Laptop      Electronics         5   \n",
       "497        TXN498                  Notepad       Stationery         3   \n",
       "498        TXN499               Whiteboard        Furniture        17   \n",
       "499        TXN500                  Stapler  Office Supplies         4   \n",
       "\n",
       "     UnitPrice  TotalCost PurchaseDate            Supplier            Buyer  \n",
       "0       113.15    1131.50   2024-04-19       TechMart Inc.     Kelly Joseph  \n",
       "1        12.62     201.92   2024-07-06     CloudSoft Corp.     Kelly Joseph  \n",
       "2      5649.34    5649.34   2024-09-10       TechMart Inc.     Kelly Joseph  \n",
       "3         2.92      37.96   2024-01-21     FurniWorks Ltd.     Luis Holland  \n",
       "4         1.39      26.41   2024-02-03       TechMart Inc.  Cynthia Jenkins  \n",
       "..         ...        ...          ...                 ...              ...  \n",
       "495     104.12    1978.28   2024-08-20   QuickDeliver Ltd.        Noah Long  \n",
       "496     919.08    4595.40   2024-08-15  OfficeSupplies Co.      Walter Pena  \n",
       "497       1.51       4.53   2024-05-12   QuickDeliver Ltd.   Jessica Hodges  \n",
       "498     162.01    2754.17   2024-03-14     FurniWorks Ltd.     Rebecca Bell  \n",
       "499      13.64      54.56   2024-03-02       TechMart Inc.        Noah Long  \n",
       "\n",
       "[500 rows x 9 columns]>"
      ]
     },
     "execution_count": 4,
     "metadata": {},
     "output_type": "execute_result"
    }
   ],
   "source": [
    "data.describe"
   ]
  },
  {
   "cell_type": "code",
   "execution_count": 5,
   "id": "62906274-eaf8-4a92-aaf3-4e8b2f3f1a85",
   "metadata": {},
   "outputs": [
    {
     "name": "stdout",
     "output_type": "stream",
     "text": [
      "<class 'pandas.core.frame.DataFrame'>\n",
      "RangeIndex: 500 entries, 0 to 499\n",
      "Data columns (total 9 columns):\n",
      " #   Column         Non-Null Count  Dtype  \n",
      "---  ------         --------------  -----  \n",
      " 0   TransactionID  500 non-null    object \n",
      " 1   ItemName       500 non-null    object \n",
      " 2   Category       500 non-null    object \n",
      " 3   Quantity       500 non-null    int64  \n",
      " 4   UnitPrice      500 non-null    float64\n",
      " 5   TotalCost      500 non-null    float64\n",
      " 6   PurchaseDate   500 non-null    object \n",
      " 7   Supplier       500 non-null    object \n",
      " 8   Buyer          500 non-null    object \n",
      "dtypes: float64(2), int64(1), object(6)\n",
      "memory usage: 35.3+ KB\n"
     ]
    }
   ],
   "source": [
    "data.info()"
   ]
  },
  {
   "cell_type": "code",
   "execution_count": null,
   "id": "741aadb6-f6f4-4188-9887-bfa154542e7b",
   "metadata": {},
   "outputs": [],
   "source": []
  }
 ],
 "metadata": {
  "kernelspec": {
   "display_name": "Python 3 (ipykernel)",
   "language": "python",
   "name": "python3"
  },
  "language_info": {
   "codemirror_mode": {
    "name": "ipython",
    "version": 3
   },
   "file_extension": ".py",
   "mimetype": "text/x-python",
   "name": "python",
   "nbconvert_exporter": "python",
   "pygments_lexer": "ipython3",
   "version": "3.12.7"
  }
 },
 "nbformat": 4,
 "nbformat_minor": 5
}
